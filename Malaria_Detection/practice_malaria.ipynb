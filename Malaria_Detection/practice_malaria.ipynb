{
 "cells": [
  {
   "cell_type": "code",
   "execution_count": 31,
   "id": "ebda20cd",
   "metadata": {},
   "outputs": [],
   "source": [
    "import tensorflow as tf### models\n",
    "import numpy as np### math computations\n",
    "import matplotlib.pyplot as plt### plots\n",
    "import sklearn### machine learning library\n",
    "import cv2## image processing\n",
    "from sklearn.metrics import confusion_matrix, roc_curve### metrics\n",
    "import seaborn as sns### visualizations\n",
    "import datetime\n",
    "import io\n",
    "import os\n",
    "import random\n",
    "from PIL import Image\n",
    "import tensorflow_datasets as tfds\n",
    "import tensorflow_probability as tfp\n",
    "from tensorflow.keras.models import Model\n",
    "from tensorflow.keras.layers import Layer\n",
    "from tensorflow.keras.layers import Conv2D, MaxPool2D, Dense, Flatten, InputLayer, BatchNormalization, Input, Dropout, RandomFlip, RandomRotation, Resizing, Rescaling\n",
    "from tensorflow.keras.losses import BinaryCrossentropy\n",
    "from tensorflow.keras.metrics import BinaryAccuracy, FalsePositives, FalseNegatives, TruePositives, TrueNegatives, Precision, Recall, AUC, binary_accuracy\n",
    "from tensorflow.keras.optimizers import Adam\n",
    "from tensorflow.keras.callbacks import Callback, CSVLogger, EarlyStopping, LearningRateScheduler, ModelCheckpoint, ReduceLROnPlateau\n",
    "from tensorboard.plugins.hparams import api as hp\n",
    "from tensorflow.keras import initializers"
   ]
  },
  {
   "cell_type": "markdown",
   "id": "f5ddfddd",
   "metadata": {},
   "source": [
    "# Data Preparation "
   ]
  },
  {
   "cell_type": "markdown",
   "id": "ab481368",
   "metadata": {},
   "source": [
    "## Data Loading"
   ]
  },
  {
   "cell_type": "code",
   "execution_count": 32,
   "id": "73096aac",
   "metadata": {},
   "outputs": [],
   "source": [
    "CONFIGURATION = {\n",
    "    \"BATCH_SIZE\": 32,\n",
    "    \"IM_SIZE\": 224,\n",
    "    \"LEARNING_RATE\": 1e-2,\n",
    "    \"N_EPOCHS\": 40,\n",
    "    \"DROPOUT_RATE\": 0.2,\n",
    "    \"REGULARIZATION_RATE\": 0.0,\n",
    "    \"N_FILTERS\": 32,\n",
    "    \"KERNEL_SIZE\": 3,\n",
    "    \"N_STRIDES\": 1,\n",
    "    \"POOL_SIZE\": 2,\n",
    "    \"N_DENSE_1\": 128,\n",
    "    \"N_DENSE_2\": 64,\n",
    "    \"NUM_CLASSES\": 2,\n",
    "}"
   ]
  },
  {
   "cell_type": "code",
   "execution_count": 33,
   "id": "74a6e500",
   "metadata": {},
   "outputs": [],
   "source": [
    "dataset, dataset_info = tfds.load('malaria', with_info=True,\n",
    "                                  as_supervised=True, \n",
    "                                  shuffle_files = True, \n",
    "                                  split=['train'])"
   ]
  },
  {
   "cell_type": "code",
   "execution_count": 34,
   "id": "43b81da3",
   "metadata": {},
   "outputs": [
    {
     "data": {
      "text/plain": [
       "[<_PrefetchDataset element_spec=(TensorSpec(shape=(None, None, 3), dtype=tf.uint8, name=None), TensorSpec(shape=(), dtype=tf.int64, name=None))>]"
      ]
     },
     "execution_count": 34,
     "metadata": {},
     "output_type": "execute_result"
    }
   ],
   "source": [
    "dataset"
   ]
  },
  {
   "cell_type": "code",
   "execution_count": 35,
   "id": "503293b6",
   "metadata": {},
   "outputs": [
    {
     "data": {
      "text/plain": [
       "['parasitized', 'uninfected']"
      ]
     },
     "execution_count": 35,
     "metadata": {},
     "output_type": "execute_result"
    }
   ],
   "source": [
    "dataset_info.features['label'].names"
   ]
  },
  {
   "cell_type": "code",
   "execution_count": 36,
   "id": "ea6c6e01",
   "metadata": {},
   "outputs": [
    {
     "data": {
      "text/plain": [
       "'parasitized'"
      ]
     },
     "execution_count": 36,
     "metadata": {},
     "output_type": "execute_result"
    }
   ],
   "source": [
    "dataset_info.features['label'].int2str(0)"
   ]
  },
  {
   "cell_type": "code",
   "execution_count": 37,
   "id": "f45acb91",
   "metadata": {},
   "outputs": [
    {
     "data": {
      "text/plain": [
       "'uninfected'"
      ]
     },
     "execution_count": 37,
     "metadata": {},
     "output_type": "execute_result"
    }
   ],
   "source": [
    "dataset_info.features['label'].int2str(1)"
   ]
  },
  {
   "cell_type": "code",
   "execution_count": 38,
   "id": "5dcfaa2f",
   "metadata": {},
   "outputs": [
    {
     "name": "stdout",
     "output_type": "stream",
     "text": [
      "Image shape: (103, 3)\n"
     ]
    }
   ],
   "source": [
    "for images, labels in dataset[0].take(1):\n",
    "    image_shape = images[0].shape\n",
    "    print(\"Image shape:\", image_shape)"
   ]
  },
  {
   "cell_type": "code",
   "execution_count": 39,
   "id": "3a6a30df",
   "metadata": {},
   "outputs": [],
   "source": [
    "def splits(dataset, TRAIN_RATIO, VAL_RATIO, TEST_RATIO):\n",
    "    DATASET_SIZE = len(dataset)\n",
    "\n",
    "    train_dataset = dataset.take(int(TRAIN_RATIO*DATASET_SIZE))\n",
    "\n",
    "    val_test_dataset = dataset.skip(int(TRAIN_RATIO*DATASET_SIZE))\n",
    "    val_dataset = val_test_dataset.take(int(VAL_RATIO*DATASET_SIZE))\n",
    "\n",
    "    test_dataset = val_test_dataset.skip(int(VAL_RATIO*DATASET_SIZE))\n",
    "    return train_dataset, val_dataset, test_dataset"
   ]
  },
  {
   "cell_type": "code",
   "execution_count": 40,
   "id": "cbcdb860",
   "metadata": {},
   "outputs": [
    {
     "name": "stdout",
     "output_type": "stream",
     "text": [
      "[(<tf.Tensor: shape=(151, 115, 3), dtype=uint8, numpy=\n",
      "array([[[0, 0, 0],\n",
      "        [0, 0, 0],\n",
      "        [0, 0, 0],\n",
      "        ...,\n",
      "        [0, 0, 0],\n",
      "        [0, 0, 0],\n",
      "        [0, 0, 0]],\n",
      "\n",
      "       [[0, 0, 0],\n",
      "        [0, 0, 0],\n",
      "        [0, 0, 0],\n",
      "        ...,\n",
      "        [0, 0, 0],\n",
      "        [0, 0, 0],\n",
      "        [0, 0, 0]],\n",
      "\n",
      "       [[0, 0, 0],\n",
      "        [0, 0, 0],\n",
      "        [0, 0, 0],\n",
      "        ...,\n",
      "        [0, 0, 0],\n",
      "        [0, 0, 0],\n",
      "        [0, 0, 0]],\n",
      "\n",
      "       ...,\n",
      "\n",
      "       [[0, 0, 0],\n",
      "        [0, 0, 0],\n",
      "        [0, 0, 0],\n",
      "        ...,\n",
      "        [0, 0, 0],\n",
      "        [0, 0, 0],\n",
      "        [0, 0, 0]],\n",
      "\n",
      "       [[0, 0, 0],\n",
      "        [0, 0, 0],\n",
      "        [0, 0, 0],\n",
      "        ...,\n",
      "        [0, 0, 0],\n",
      "        [0, 0, 0],\n",
      "        [0, 0, 0]],\n",
      "\n",
      "       [[0, 0, 0],\n",
      "        [0, 0, 0],\n",
      "        [0, 0, 0],\n",
      "        ...,\n",
      "        [0, 0, 0],\n",
      "        [0, 0, 0],\n",
      "        [0, 0, 0]]], dtype=uint8)>, <tf.Tensor: shape=(), dtype=int64, numpy=1>)] [(<tf.Tensor: shape=(115, 112, 3), dtype=uint8, numpy=\n",
      "array([[[0, 0, 0],\n",
      "        [0, 0, 0],\n",
      "        [0, 0, 0],\n",
      "        ...,\n",
      "        [0, 0, 0],\n",
      "        [0, 0, 0],\n",
      "        [0, 0, 0]],\n",
      "\n",
      "       [[0, 0, 0],\n",
      "        [0, 0, 0],\n",
      "        [0, 0, 0],\n",
      "        ...,\n",
      "        [0, 0, 0],\n",
      "        [0, 0, 0],\n",
      "        [0, 0, 0]],\n",
      "\n",
      "       [[0, 0, 0],\n",
      "        [0, 0, 0],\n",
      "        [0, 0, 0],\n",
      "        ...,\n",
      "        [0, 0, 0],\n",
      "        [0, 0, 0],\n",
      "        [0, 0, 0]],\n",
      "\n",
      "       ...,\n",
      "\n",
      "       [[0, 0, 0],\n",
      "        [0, 0, 0],\n",
      "        [0, 0, 0],\n",
      "        ...,\n",
      "        [0, 0, 0],\n",
      "        [0, 0, 0],\n",
      "        [0, 0, 0]],\n",
      "\n",
      "       [[0, 0, 0],\n",
      "        [0, 0, 0],\n",
      "        [0, 0, 0],\n",
      "        ...,\n",
      "        [0, 0, 0],\n",
      "        [0, 0, 0],\n",
      "        [0, 0, 0]],\n",
      "\n",
      "       [[0, 0, 0],\n",
      "        [0, 0, 0],\n",
      "        [0, 0, 0],\n",
      "        ...,\n",
      "        [0, 0, 0],\n",
      "        [0, 0, 0],\n",
      "        [0, 0, 0]]], dtype=uint8)>, <tf.Tensor: shape=(), dtype=int64, numpy=1>)] [(<tf.Tensor: shape=(133, 145, 3), dtype=uint8, numpy=\n",
      "array([[[0, 0, 0],\n",
      "        [0, 0, 0],\n",
      "        [0, 0, 0],\n",
      "        ...,\n",
      "        [0, 0, 0],\n",
      "        [0, 0, 0],\n",
      "        [0, 0, 0]],\n",
      "\n",
      "       [[0, 0, 0],\n",
      "        [0, 0, 0],\n",
      "        [0, 0, 0],\n",
      "        ...,\n",
      "        [0, 0, 0],\n",
      "        [0, 0, 0],\n",
      "        [0, 0, 0]],\n",
      "\n",
      "       [[0, 0, 0],\n",
      "        [0, 0, 0],\n",
      "        [0, 0, 0],\n",
      "        ...,\n",
      "        [0, 0, 0],\n",
      "        [0, 0, 0],\n",
      "        [0, 0, 0]],\n",
      "\n",
      "       ...,\n",
      "\n",
      "       [[0, 0, 0],\n",
      "        [0, 0, 0],\n",
      "        [0, 0, 0],\n",
      "        ...,\n",
      "        [0, 0, 0],\n",
      "        [0, 0, 0],\n",
      "        [0, 0, 0]],\n",
      "\n",
      "       [[0, 0, 0],\n",
      "        [0, 0, 0],\n",
      "        [0, 0, 0],\n",
      "        ...,\n",
      "        [0, 0, 0],\n",
      "        [0, 0, 0],\n",
      "        [0, 0, 0]],\n",
      "\n",
      "       [[0, 0, 0],\n",
      "        [0, 0, 0],\n",
      "        [0, 0, 0],\n",
      "        ...,\n",
      "        [0, 0, 0],\n",
      "        [0, 0, 0],\n",
      "        [0, 0, 0]]], dtype=uint8)>, <tf.Tensor: shape=(), dtype=int64, numpy=0>)]\n"
     ]
    }
   ],
   "source": [
    "TRAIN_RATIO = 0.8\n",
    "VAL_RATIO = 0.1\n",
    "TEST_RATIO = 0.1\n",
    "\n",
    "train_dataset, val_dataset, test_dataset = splits(dataset[0], TRAIN_RATIO, VAL_RATIO, TEST_RATIO )\n",
    "print(list(train_dataset.take(1)), list(val_dataset.take(1)), list(test_dataset.take(1)))"
   ]
  },
  {
   "cell_type": "code",
   "execution_count": 41,
   "id": "866902d9",
   "metadata": {},
   "outputs": [
    {
     "data": {
      "text/plain": [
       "<_TakeDataset element_spec=(TensorSpec(shape=(None, None, 3), dtype=tf.uint8, name=None), TensorSpec(shape=(), dtype=tf.int64, name=None))>"
      ]
     },
     "execution_count": 41,
     "metadata": {},
     "output_type": "execute_result"
    }
   ],
   "source": [
    "train_dataset"
   ]
  },
  {
   "cell_type": "code",
   "execution_count": 42,
   "id": "f22b02af",
   "metadata": {},
   "outputs": [
    {
     "name": "stdout",
     "output_type": "stream",
     "text": [
      "Image shape: (115, 3)\n"
     ]
    }
   ],
   "source": [
    "for images, labels in train_dataset.take(1):\n",
    "    image_shape = images[0].shape\n",
    "    print(\"Image shape:\", image_shape)"
   ]
  },
  {
   "cell_type": "markdown",
   "id": "734b2b08",
   "metadata": {},
   "source": [
    "## Dataset Visualization"
   ]
  },
  {
   "cell_type": "code",
   "execution_count": 43,
   "id": "a3328d9f",
   "metadata": {},
   "outputs": [
    {
     "data": {
      "image/png": "[encoded data removed]",
      "text/plain": [
       "<Figure size 576x576 with 16 Axes>"
      ]
     },
     "metadata": {
      "needs_background": "light"
     },
     "output_type": "display_data"
    }
   ],
   "source": [
    "fig = plt.figure(figsize=(8, 8))  # Set the desired figure size\n",
    "\n",
    "for i, (image, label) in enumerate(train_dataset.take(16)):\n",
    "    ax = plt.subplot(4, 4, i + 1)\n",
    "  \n",
    "    plt.imshow(image)\n",
    "    plt.title(dataset_info.features['label'].int2str(label))\n",
    "    plt.axis('off')\n",
    "plt.tight_layout()          # Adjust subplots to avoid overlapping"
   ]
  },
  {
   "cell_type": "code",
   "execution_count": 44,
   "id": "ac335152",
   "metadata": {},
   "outputs": [
    {
     "name": "stdout",
     "output_type": "stream",
     "text": [
      "parasitized\n",
      "uninfected\n"
     ]
    }
   ],
   "source": [
    "print(dataset_info.features['label'].int2str(0))\n",
    "print(dataset_info.features['label'].int2str(1))"
   ]
  },
  {
   "cell_type": "markdown",
   "id": "ec83b6f1",
   "metadata": {},
   "source": [
    "## Data Preprocessing"
   ]
  },
  {
   "cell_type": "markdown",
   "id": "0e8e47b6",
   "metadata": {},
   "source": [
    "### Data Augmentation"
   ]
  },
  {
   "cell_type": "code",
   "execution_count": 58,
   "id": "35b67530",
   "metadata": {},
   "outputs": [],
   "source": [
    "### tf.keras.layer resizing and rescaling\n",
    "IM_SIZE = CONFIGURATION['IM_SIZE']\n",
    "resize_rescale_layers = tf.keras.Sequential([\n",
    "       Resizing(IM_SIZE, IM_SIZE),\n",
    "       Rescaling(1./255),                               \n",
    "])\n",
    "\n",
    "@tf.function\n",
    "def resize_rescale_single_layer(image, label):\n",
    "  return (resize_rescale_layers(image)), label"
   ]
  },
  {
   "cell_type": "code",
   "execution_count": 59,
   "id": "c84fc060",
   "metadata": {},
   "outputs": [],
   "source": [
    "### tf.keras.layer augment\n",
    "augment_layers = tf.keras.Sequential([\n",
    "       RandomRotation(factor = (0.25, 0.2501),),\n",
    "       RandomFlip(mode='horizontal',)\n",
    "                                  \n",
    "])\n",
    "@tf.function\n",
    "def augment_layer_single_image(image, label):\n",
    "  return augment_layers(resize_rescale_layers(image), training = True), label"
   ]
  },
  {
   "cell_type": "code",
   "execution_count": 60,
   "id": "8edc3c86",
   "metadata": {},
   "outputs": [],
   "source": [
    "def visualize(original, augmented):\n",
    "  plt.subplot(1,2,1)\n",
    "  plt.imshow(original)\n",
    "\n",
    "  plt.subplot(1,2,2)\n",
    "  plt.imshow(augmented)"
   ]
  },
  {
   "cell_type": "code",
   "execution_count": 61,
   "id": "cb87ae50",
   "metadata": {},
   "outputs": [],
   "source": [
    "original_image, label = next(iter(train_dataset))"
   ]
  },
  {
   "cell_type": "code",
   "execution_count": 62,
   "id": "01216aab",
   "metadata": {},
   "outputs": [
    {
     "data": {
      "text/plain": [
       "TensorShape([145, 148, 3])"
      ]
     },
     "execution_count": 62,
     "metadata": {},
     "output_type": "execute_result"
    }
   ],
   "source": [
    "original_image.shape"
   ]
  },
  {
   "cell_type": "code",
   "execution_count": 63,
   "id": "9f65fecc",
   "metadata": {},
   "outputs": [],
   "source": [
    "# Assuming you have a single image stored in the 'image' variable\n",
    "\n",
    "# Reshape the image to add a batch dimension\n",
    "image = tf.expand_dims(original_image, axis=0)\n",
    "\n",
    "# Apply the resize_rescale_layers on the image\n",
    "preprocessed_image = resize_rescale_layers(image)\n",
    "\n",
    "# Remove the batch dimension and retrieve the preprocessed image\n",
    "preprocessed_original_image = tf.squeeze(preprocessed_image, axis=0)"
   ]
  },
  {
   "cell_type": "code",
   "execution_count": 64,
   "id": "f8af8705",
   "metadata": {},
   "outputs": [
    {
     "data": {
      "text/plain": [
       "TensorShape([1, 224, 224, 3])"
      ]
     },
     "execution_count": 64,
     "metadata": {},
     "output_type": "execute_result"
    }
   ],
   "source": [
    "preprocessed_image.shape"
   ]
  },
  {
   "cell_type": "code",
   "execution_count": 54,
   "id": "8b546e8d",
   "metadata": {},
   "outputs": [],
   "source": [
    "augmented_image = augment_layers(preprocessed_original_image, training = True)"
   ]
  },
  {
   "cell_type": "code",
   "execution_count": 55,
   "id": "02c9ab70",
   "metadata": {},
   "outputs": [
    {
     "data": {
      "text/plain": [
       "TensorShape([224, 224, 3])"
      ]
     },
     "execution_count": 55,
     "metadata": {},
     "output_type": "execute_result"
    }
   ],
   "source": [
    "augmented_image.shape"
   ]
  },
  {
   "cell_type": "code",
   "execution_count": 56,
   "id": "bbbc4e82",
   "metadata": {},
   "outputs": [
    {
     "data": {
      "image/png": "[encoded data removed]",
      "text/plain": [
       "<Figure size 432x288 with 2 Axes>"
      ]
     },
     "metadata": {
      "needs_background": "light"
     },
     "output_type": "display_data"
    }
   ],
   "source": [
    "visualize(preprocessed_original_image, augmented_image)"
   ]
  },
  {
   "cell_type": "markdown",
   "id": "af8d64c6",
   "metadata": {},
   "source": [
    "### Data Loading"
   ]
  },
  {
   "cell_type": "code",
   "execution_count": 65,
   "id": "b23f315f",
   "metadata": {},
   "outputs": [],
   "source": [
    "BATCH_SIZE = CONFIGURATION['BATCH_SIZE']"
   ]
  },
  {
   "cell_type": "raw",
   "id": "5f1e8d9d",
   "metadata": {},
   "source": [
    "train_dataset = (\n",
    "    train_dataset\n",
    "    .shuffle(buffer_size = 1024, reshuffle_each_iteration = True)\n",
    "    .map(augment_layer_single_image, num_parallel_calls = tf.data.AUTOTUNE)\n",
    "    .batch(BATCH_SIZE)\n",
    "    .prefetch(tf.data.AUTOTUNE)\n",
    ")"
   ]
  },
  {
   "cell_type": "code",
   "execution_count": 66,
   "id": "e9622341",
   "metadata": {},
   "outputs": [
    {
     "name": "stdout",
     "output_type": "stream",
     "text": [
      "tf.Tensor(\n",
      "[[[0 0 0]\n",
      "  [0 0 0]\n",
      "  [0 0 0]\n",
      "  ...\n",
      "  [0 0 0]\n",
      "  [0 0 0]\n",
      "  [0 0 0]]\n",
      "\n",
      " [[0 0 0]\n",
      "  [0 0 0]\n",
      "  [0 0 0]\n",
      "  ...\n",
      "  [0 0 0]\n",
      "  [0 0 0]\n",
      "  [0 0 0]]\n",
      "\n",
      " [[0 0 0]\n",
      "  [0 0 0]\n",
      "  [0 0 0]\n",
      "  ...\n",
      "  [0 0 0]\n",
      "  [0 0 0]\n",
      "  [0 0 0]]\n",
      "\n",
      " ...\n",
      "\n",
      " [[0 0 0]\n",
      "  [0 0 0]\n",
      "  [0 0 0]\n",
      "  ...\n",
      "  [0 0 0]\n",
      "  [0 0 0]\n",
      "  [0 0 0]]\n",
      "\n",
      " [[0 0 0]\n",
      "  [0 0 0]\n",
      "  [0 0 0]\n",
      "  ...\n",
      "  [0 0 0]\n",
      "  [0 0 0]\n",
      "  [0 0 0]]\n",
      "\n",
      " [[0 0 0]\n",
      "  [0 0 0]\n",
      "  [0 0 0]\n",
      "  ...\n",
      "  [0 0 0]\n",
      "  [0 0 0]\n",
      "  [0 0 0]]], shape=(103, 103, 3), dtype=uint8) tf.Tensor(0, shape=(), dtype=int64)\n"
     ]
    }
   ],
   "source": [
    "for image,label in train_dataset.take(1):\n",
    "  print(image, label)"
   ]
  },
  {
   "cell_type": "code",
   "execution_count": 67,
   "id": "472395b6",
   "metadata": {},
   "outputs": [],
   "source": [
    "train_dataset = (\n",
    "    train_dataset\n",
    "    .shuffle(buffer_size = 1024, reshuffle_each_iteration = True)\n",
    "    .map(resize_rescale_single_layer, num_parallel_calls = tf.data.AUTOTUNE)\n",
    "    .batch(BATCH_SIZE)\n",
    "    .prefetch(tf.data.AUTOTUNE)\n",
    ")"
   ]
  },
  {
   "cell_type": "code",
   "execution_count": 68,
   "id": "e3d7e83b",
   "metadata": {},
   "outputs": [],
   "source": [
    "val_dataset = (\n",
    "    val_dataset\n",
    "    .shuffle(buffer_size = 32)\n",
    "    .map(resize_rescale_single_layer, num_parallel_calls = tf.data.AUTOTUNE)\n",
    "    .batch(BATCH_SIZE)\n",
    "    .prefetch(tf.data.AUTOTUNE)\n",
    ")"
   ]
  },
  {
   "cell_type": "code",
   "execution_count": 69,
   "id": "86fa4e95",
   "metadata": {},
   "outputs": [
    {
     "data": {
      "text/plain": [
       "<_PrefetchDataset element_spec=(TensorSpec(shape=(None, 224, 224, 3), dtype=tf.float32, name=None), TensorSpec(shape=(None,), dtype=tf.int64, name=None))>"
      ]
     },
     "execution_count": 69,
     "metadata": {},
     "output_type": "execute_result"
    }
   ],
   "source": [
    "val_dataset"
   ]
  },
  {
   "cell_type": "code",
   "execution_count": 70,
   "id": "6c2b339a",
   "metadata": {},
   "outputs": [
    {
     "data": {
      "text/plain": [
       "<_PrefetchDataset element_spec=(TensorSpec(shape=(None, 224, 224, 3), dtype=tf.float32, name=None), TensorSpec(shape=(None,), dtype=tf.int64, name=None))>"
      ]
     },
     "execution_count": 70,
     "metadata": {},
     "output_type": "execute_result"
    }
   ],
   "source": [
    "train_dataset"
   ]
  },
  {
   "cell_type": "code",
   "execution_count": null,
   "id": "4e285d4a",
   "metadata": {},
   "outputs": [],
   "source": [
    "fig = plt.figure(figsize=(8, 8))\n",
    "\n",
    "num_images = 16  # Set the desired number of images to display\n",
    "\n",
    "for i, (image_batch, label_batch) in enumerate(train_dataset.take(1)):\n",
    "    for j in range(16):\n",
    "        ax = plt.subplot(4, 4, j + 1)\n",
    "        \n",
    "        image = image_batch[j]\n",
    "        plt.imshow(image)\n",
    "        plt.title(dataset_info.features['label'].int2str(label_batch[j]))\n",
    "        plt.axis('off')\n",
    "\n",
    "plt.tight_layout()\n"
   ]
  },
  {
   "cell_type": "markdown",
   "id": "e0cc851e",
   "metadata": {},
   "source": [
    "\n",
    "### Repeating the dataset (x5)"
   ]
  },
  {
   "cell_type": "raw",
   "id": "1fbb1713",
   "metadata": {},
   "source": [
    "def augment_1(image, label):\n",
    "  image = resize_rescale_layers(image)\n",
    "\n",
    "  image = tf.image.random_brightness(image, 0.2)\n",
    "  return image, label"
   ]
  },
  {
   "cell_type": "raw",
   "id": "acd56d39",
   "metadata": {},
   "source": [
    "def augment_2(image, label):\n",
    "  mage = resize_rescale_layers(image)\n",
    "\n",
    "  image = tf.image.random_flip_up_down(image)\n",
    "  return image, label"
   ]
  },
  {
   "cell_type": "raw",
   "id": "1695869e",
   "metadata": {},
   "source": [
    "def augment_3(image, label):\n",
    "  mage = resize_rescale_layers(image)\n",
    "\n",
    "  image = tf.image.flip_left_right(image)\n",
    "  return image, label"
   ]
  },
  {
   "cell_type": "raw",
   "id": "5243f23b",
   "metadata": {},
   "source": [
    "def augment_4(image, label):\n",
    "  mage = resize_rescale_layers(image)\n",
    "\n",
    "  image = tf.image.rot90(image)\n",
    "  return image, label"
   ]
  },
  {
   "cell_type": "raw",
   "id": "945bddbb",
   "metadata": {},
   "source": [
    "def augment_5(image, label):\n",
    "  image = resize_rescale_layers(image)\n",
    "  \n",
    "  return image, label"
   ]
  },
  {
   "cell_type": "raw",
   "id": "606951c6",
   "metadata": {},
   "source": [
    "train_dataset_1 = (\n",
    "    train_dataset\n",
    "    .shuffle(buffer_size = 1024, reshuffle_each_iteration = True)\n",
    "    .map(augment_1)\n",
    ")"
   ]
  },
  {
   "cell_type": "raw",
   "id": "b70aa4e4",
   "metadata": {},
   "source": [
    "train_dataset_2 = (\n",
    "    train_dataset\n",
    "    .shuffle(buffer_size = 1024, reshuffle_each_iteration = True)\n",
    "    .map(augment_2)\n",
    ")"
   ]
  },
  {
   "cell_type": "raw",
   "id": "c19fe358",
   "metadata": {},
   "source": [
    "train_dataset_3 = (\n",
    "    train_dataset\n",
    "    .shuffle(buffer_size = 1024, reshuffle_each_iteration = True)\n",
    "    .map(augment_3)\n",
    ")"
   ]
  },
  {
   "cell_type": "raw",
   "id": "36fc147c",
   "metadata": {},
   "source": [
    "train_dataset_4 = (\n",
    "    train_dataset\n",
    "    .shuffle(buffer_size = 1024, reshuffle_each_iteration = True)\n",
    "    .map(augment_4)\n",
    ")"
   ]
  },
  {
   "cell_type": "raw",
   "id": "bc456757",
   "metadata": {},
   "source": [
    "train_dataset_5 = (\n",
    "    train_dataset\n",
    "    .shuffle(buffer_size = 1024, reshuffle_each_iteration = True)\n",
    "    .map(augment_5)\n",
    ")"
   ]
  },
  {
   "cell_type": "raw",
   "id": "10bff3bb",
   "metadata": {},
   "source": [
    "full_dataset = train_dataset_1.concatenate(train_dataset_2).concatenate(train_dataset_3).concatenate(train_dataset_4).concatenate(train_dataset_5)"
   ]
  },
  {
   "cell_type": "raw",
   "id": "ddd16f44",
   "metadata": {},
   "source": [
    "full_dataset = (\n",
    "    full_dataset\n",
    "    .shuffle(buffer_size = 1024, reshuffle_each_iteration = True)\n",
    "    .batch(BATCH_SIZE)\n",
    "    .prefetch(tf.data.AUTOTUNE)\n",
    ")"
   ]
  },
  {
   "cell_type": "raw",
   "id": "9641a314",
   "metadata": {},
   "source": [
    "full_dataset"
   ]
  },
  {
   "cell_type": "markdown",
   "id": "0a8c0aaa",
   "metadata": {},
   "source": [
    "# Model Creation and Training"
   ]
  },
  {
   "cell_type": "code",
   "execution_count": null,
   "id": "8ec47c0d",
   "metadata": {},
   "outputs": [],
   "source": [
    "IM_SIZE = CONFIGURATION['IM_SIZE']\n",
    "DROPOUT_RATE = CONFIGURATION['DROPOUT_RATE']\n",
    "REGULARIZATION_RATE = CONFIGURATION['REGULARIZATION_RATE']\n",
    "N_FILTERS = CONFIGURATION['N_FILTERS']\n",
    "KERNEL_SIZE = CONFIGURATION['KERNEL_SIZE']\n",
    "POOL_SIZE = CONFIGURATION['POOL_SIZE']\n",
    "N_STRIDES = CONFIGURATION['N_STRIDES']"
   ]
  },
  {
   "cell_type": "code",
   "execution_count": null,
   "id": "03a445af",
   "metadata": {},
   "outputs": [],
   "source": [
    "model_seq = tf.keras.Sequential([\n",
    "    augment_layers,\n",
    "    \n",
    "    InputLayer(input_shape = (IM_SIZE, IM_SIZE, 3)),\n",
    "\n",
    "    \n",
    "    Conv2D(filters = N_FILTERS , kernel_size = KERNEL_SIZE, strides = N_STRIDES , padding='valid', activation = 'relu', kernel_initializer=initializers.HeNormal()),\n",
    "    BatchNormalization(),\n",
    "    MaxPool2D (pool_size = POOL_SIZE, strides= N_STRIDES*2),\n",
    "\n",
    "    Conv2D(filters = N_FILTERS*2, kernel_size = KERNEL_SIZE, strides=N_STRIDES, padding='valid', activation = 'relu', kernel_initializer=initializers.HeNormal()),\n",
    "    BatchNormalization(),\n",
    "    MaxPool2D (pool_size = POOL_SIZE, strides= N_STRIDES*2),\n",
    "    Dropout(rate = DROPOUT_RATE ),\n",
    "    \n",
    "    Conv2D(filters = N_FILTERS*2, kernel_size = KERNEL_SIZE, strides=N_STRIDES, padding='valid', activation = 'relu', kernel_initializer=initializers.HeNormal()),\n",
    "    BatchNormalization(),\n",
    "    MaxPool2D (pool_size = POOL_SIZE, strides= N_STRIDES*2),\n",
    "    Dropout(rate = DROPOUT_RATE ),\n",
    "    \n",
    "    Conv2D(filters = N_FILTERS*2, kernel_size = KERNEL_SIZE, strides=N_STRIDES, padding='valid', activation = 'relu', kernel_initializer=initializers.HeNormal()),\n",
    "    BatchNormalization(),\n",
    "    MaxPool2D (pool_size = POOL_SIZE, strides= N_STRIDES*2),\n",
    "\n",
    "    Flatten(),\n",
    "    \n",
    "    Dense( CONFIGURATION['N_DENSE_1'], activation = \"relu\", kernel_initializer=initializers.HeNormal()),\n",
    "    BatchNormalization(),\n",
    "    Dropout(rate = DROPOUT_RATE*2),\n",
    "    \n",
    "    Dense( CONFIGURATION['N_DENSE_1'], activation = \"relu\", kernel_initializer=initializers.HeNormal()),\n",
    "\n",
    "    Dense(1, activation = \"sigmoid\"),\n",
    "\n",
    "])\n"
   ]
  },
  {
   "cell_type": "code",
   "execution_count": null,
   "id": "031310a0",
   "metadata": {},
   "outputs": [],
   "source": [
    "model_seq.build((None, IM_SIZE, IM_SIZE, 3))  # Build the model with a specific input shape\n",
    "model_seq.summary()"
   ]
  },
  {
   "cell_type": "markdown",
   "id": "b85e1c50",
   "metadata": {},
   "source": [
    "## Callbacks"
   ]
  },
  {
   "cell_type": "code",
   "execution_count": null,
   "id": "bbaa56ea",
   "metadata": {},
   "outputs": [],
   "source": [
    "class LossCallback(Callback):\n",
    "  def on_epoch_end(self, epoch, logs):\n",
    "    print(\"\\n For Epoch Number {} the model has a loss of {} \".format(epoch+1, logs[\"loss\"]))\n",
    "    \n",
    "  def on_batch_end(self, batch, logs):\n",
    "    print(\"\\n For Batch Number {} the model has a loss of {} \".format(batch+1, logs))"
   ]
  },
  {
   "cell_type": "markdown",
   "id": "c2ed28fa",
   "metadata": {},
   "source": [
    "### CSVLogger"
   ]
  },
  {
   "cell_type": "code",
   "execution_count": null,
   "id": "c4814f55",
   "metadata": {},
   "outputs": [],
   "source": [
    "csv_callback = CSVLogger(\n",
    "    'logs.csv', separator=',', append=True\n",
    ")"
   ]
  },
  {
   "cell_type": "markdown",
   "id": "966d75be",
   "metadata": {},
   "source": [
    "### EarlyStopping"
   ]
  },
  {
   "cell_type": "code",
   "execution_count": null,
   "id": "7dd64fbd",
   "metadata": {},
   "outputs": [],
   "source": [
    "es_callback = EarlyStopping(\n",
    "    monitor='val_loss', min_delta=0, patience=4, verbose=1,\n",
    "    mode='auto', baseline=None, restore_best_weights=False\n",
    ")"
   ]
  },
  {
   "cell_type": "markdown",
   "id": "5ae3f52d",
   "metadata": {},
   "source": [
    "### LearningRateScheduler"
   ]
  },
  {
   "cell_type": "code",
   "execution_count": null,
   "id": "9066c32a",
   "metadata": {},
   "outputs": [],
   "source": [
    "def scheduler(epoch, lr):\n",
    "\n",
    "  if epoch <= 10:\n",
    "    learning_rate = lr\n",
    "  else:\n",
    "    learning_rate = lr * tf.math.exp(-0.1)\n",
    "    learning_rate = learning_rate.numpy()\n",
    "  return learning_rate\n",
    "\n",
    "scheduler_callback = LearningRateScheduler(scheduler, verbose = 1)"
   ]
  },
  {
   "cell_type": "markdown",
   "id": "2fd8f75c",
   "metadata": {},
   "source": [
    "### ReduceLearningRateOnPlateau"
   ]
  },
  {
   "cell_type": "code",
   "execution_count": null,
   "id": "4dbf7114",
   "metadata": {},
   "outputs": [],
   "source": [
    "# this is another type of call back\n",
    "plateau_callback = ReduceLROnPlateau(\n",
    "    monitor='val_accuracy', factor=0.1, patience=5, verbose=1\n",
    ")"
   ]
  },
  {
   "cell_type": "markdown",
   "id": "82671a39",
   "metadata": {},
   "source": [
    "## Training"
   ]
  },
  {
   "cell_type": "raw",
   "id": "71d1f79c",
   "metadata": {},
   "source": [
    "# some types of metrics\n",
    "metrics = [TruePositives(name='tp'),FalsePositives(name='fp'), TrueNegatives(name='tn'), FalseNegatives(name='fn'), \n",
    "            BinaryAccuracy(name='accuracy'), Precision(name='precision'), Recall(name='recall'), AUC(name='auc')]"
   ]
  },
  {
   "cell_type": "code",
   "execution_count": null,
   "id": "fea7b80b",
   "metadata": {},
   "outputs": [],
   "source": [
    "metrics = [ BinaryAccuracy(name='accuracy')]\n",
    "FACTOR = 1\n",
    "LABELS = ['Parasitized', 'Uninfected']"
   ]
  },
  {
   "cell_type": "code",
   "execution_count": null,
   "id": "db92e101",
   "metadata": {},
   "outputs": [],
   "source": [
    "model_seq.compile(optimizer = Adam(learning_rate = CONFIGURATION['LEARNING_RATE']),\n",
    "      loss = BinaryCrossentropy(),       \n",
    "      metrics = metrics)"
   ]
  },
  {
   "cell_type": "code",
   "execution_count": null,
   "id": "49157fc2",
   "metadata": {},
   "outputs": [],
   "source": [
    "history = model_seq.fit(\n",
    "    train_dataset,\n",
    "    validation_data = val_dataset,\n",
    "    epochs = CONFIGURATION['N_EPOCHS'],\n",
    "    verbose = 1,\n",
    "    callbacks=[es_callback, csv_callback, plateau_callback]\n",
    "    )"
   ]
  },
  {
   "cell_type": "markdown",
   "id": "3a35e966",
   "metadata": {},
   "source": [
    "## Hyperparameter Tuning"
   ]
  },
  {
   "cell_type": "code",
   "execution_count": null,
   "id": "15b6b062",
   "metadata": {},
   "outputs": [],
   "source": [
    "IM_SIZE = 224\n",
    "def model_tune(hparams):\n",
    "  lenet_model = tf.keras.Sequential([\n",
    "    InputLayer(input_shape = (IM_SIZE, IM_SIZE, 3)),\n",
    "\n",
    "    Conv2D(filters = 6, kernel_size = 3, strides=1, padding='valid',\n",
    "          activation = 'relu',kernel_regularizer = L2(hparams[HP_REGULARIZATION_RATE])),\n",
    "    BatchNormalization(),\n",
    "    MaxPool2D (pool_size = 2, strides= 2),\n",
    "    Dropout(rate = hparams[HP_DROPOUT]),\n",
    "\n",
    "    Conv2D(filters = 16, kernel_size = 3, strides=1, padding='valid',\n",
    "          activation = 'relu', kernel_regularizer = L2(hparams[HP_REGULARIZATION_RATE])),\n",
    "    BatchNormalization(),\n",
    "    MaxPool2D (pool_size = 2, strides= 2),\n",
    "\n",
    "    Flatten(),\n",
    "    \n",
    "    Dense( hparams[HP_NUM_UNITS_1], activation = \"relu\", kernel_regularizer = L2(hparams[HP_REGULARIZATION_RATE])),\n",
    "    BatchNormalization(),\n",
    "    Dropout(rate = hparams[HP_DROPOUT]),\n",
    "    \n",
    "    Dense(hparams[HP_NUM_UNITS_2], activation = \"relu\", kernel_regularizer = L2(hparams[HP_REGULARIZATION_RATE])),\n",
    "    BatchNormalization(),\n",
    "\n",
    "    Dense(1, activation = \"sigmoid\"),\n",
    "  ])\n",
    "\n",
    "  lenet_model.compile(\n",
    "        optimizer= Adam(learning_rate = hparams[HP_LEARNING_RATE]),\n",
    "        loss='binary_crossentropy',\n",
    "        metrics=['accuracy'],\n",
    "    )\n",
    "\n",
    "  lenet_model.fit(val_dataset, epochs=1)\n",
    "  _, accuracy = lenet_model.evaluate(val_dataset)\n",
    "  return accuracy"
   ]
  },
  {
   "cell_type": "code",
   "execution_count": null,
   "id": "c18bb709",
   "metadata": {},
   "outputs": [],
   "source": [
    "HP_NUM_UNITS_1 = hp.HParam('num_units_1', hp.Discrete([16,32,64,128]))\n",
    "HP_NUM_UNITS_2 = hp.HParam('num_units_2', hp.Discrete([16,32,64,128]))\n",
    "HP_DROPOUT = hp.HParam('dropout_rate', hp.Discrete([0.1,0.2,0.3]))\n",
    "HP_REGULARIZATION_RATE = hp.HParam('regularization_rate', hp.Discrete([0.001,0.01,0.1]))\n",
    "HP_LEARNING_RATE = hp.HParam('learning_rate', hp.Discrete([1e-4, 1e-3]))\n",
    "\n",
    "fixed range of values is very large\n"
   ]
  },
  {
   "cell_type": "code",
   "execution_count": null,
   "id": "522d097b",
   "metadata": {},
   "outputs": [],
   "source": [
    "run_number = 0\n",
    "for num_units_1 in HP_NUM_UNITS_1.domain.values:\n",
    "  for num_units_2 in HP_NUM_UNITS_2.domain.values:\n",
    "    for dropout_rate in HP_DROPOUT.domain.values:\n",
    "      for regularization_rate in HP_REGULARIZATION_RATE.domain.values:\n",
    "        for learning_rate in HP_LEARNING_RATE.domain.values:\n",
    "\n",
    "          hparams = {\n",
    "              HP_NUM_UNITS_1: num_units_1,\n",
    "              HP_NUM_UNITS_2: num_units_2,\n",
    "              HP_DROPOUT: dropout_rate,\n",
    "              HP_REGULARIZATION_RATE: regularization_rate,\n",
    "              HP_LEARNING_RATE: learning_rate,\n",
    "              \n",
    "          }\n",
    "          file_writer = tf.summary.create_file_writer('logs/hparams-' + str(run_number))\n",
    "\n",
    "          with file_writer.as_default():\n",
    "              hp.hparams(hparams)\n",
    "              accuracy = model_tune(hparams)\n",
    "              tf.summary.scalar('accuracy', accuracy, step = 0)\n",
    "          print(\"For the run {}, hparams num_units_1:{}, num_units_2:{}, dropout:{}, regularization_rate:{}, learning_rate:{}\".format(run_number, hparams[HP_NUM_UNITS_1], hparams[HP_NUM_UNITS_2],\n",
    "                                                             hparams[HP_DROPOUT], hparams[HP_REGULARIZATION_RATE],\n",
    "                                                             hparams[HP_LEARNING_RATE]))\n",
    "          run_number += 1"
   ]
  },
  {
   "cell_type": "markdown",
   "id": "a90cdccc",
   "metadata": {},
   "source": [
    "## Custom Training Loop"
   ]
  },
  {
   "cell_type": "code",
   "execution_count": null,
   "id": "ab600db8",
   "metadata": {},
   "outputs": [],
   "source": [
    "OPTIMIZER = Adam(learning_rate = 0.01)\n",
    "METRIC = BinaryAccuracy()\n",
    "METRIC_VAL = BinaryAccuracy()\n",
    "EPOCHS = CONFIGURATION['N_EPOCHS']"
   ]
  },
  {
   "cell_type": "code",
   "execution_count": null,
   "id": "c3ce3378",
   "metadata": {},
   "outputs": [],
   "source": [
    "CURRENT_TIME = datetime.datetime.now().strftime('%d%m%y - %h%m%s')\n",
    "CUSTOM_TRAIN_DIR = './logs/' + CURRENT_TIME + '/custom/train'\n",
    "CUSTOM_VAL_DIR = './logs/' + CURRENT_TIME + '/custom/val'\n",
    "\n",
    "custom_train_writer = tf.summary.create_file_writer(CUSTOM_TRAIN_DIR)\n",
    "custom_val_writer = tf.summary.create_file_writer(CUSTOM_VAL_DIR)"
   ]
  },
  {
   "cell_type": "code",
   "execution_count": null,
   "id": "0631cc8f",
   "metadata": {},
   "outputs": [],
   "source": [
    "@tf.function\n",
    "def training_block(x_batch, y_batch):\n",
    "  with tf.GradientTape() as recorder:\n",
    "      y_pred = lenet_model(x_batch, training = True)\n",
    "      loss = custom_bce(y_batch, y_pred)\n",
    "\n",
    "  #wandb.log({'loss':loss.numpy()})\n",
    "  partial_derivatives = recorder.gradient(loss, lenet_model.trainable_weights)\n",
    "  OPTIMIZER.apply_gradients(zip(partial_derivatives, lenet_model.trainable_weights))\n",
    "  METRIC.update_state(y_batch, y_pred)\n",
    "  return loss\n",
    "\n",
    "@tf.function\n",
    "def val_block(x_batch_val, y_batch_val):\n",
    "    y_pred_val = lenet_model(x_batch_val, training = False)\n",
    "    loss_val = custom_bce(y_batch_val, y_pred_val)\n",
    "    METRIC_VAL.update_state(y_batch_val, y_pred_val)\n",
    "    return loss_val"
   ]
  },
  {
   "cell_type": "code",
   "execution_count": null,
   "id": "98da6746",
   "metadata": {},
   "outputs": [],
   "source": [
    "def neuralearn(model, loss_function, METRIC, VAL_METRIC, OPTIMIZER, train_dataset, val_dataset, EPOCHS):\n",
    "  for epoch in range(EPOCHS):\n",
    "    print(\"Training starts for epoch number {}\".format(epoch+1))\n",
    "    for step, (x_batch, y_batch) in enumerate(train_dataset):\n",
    "      loss = training_block(x_batch, y_batch)\n",
    "      \n",
    "    print(\"Training Loss\", loss)\n",
    "    print(\"The accuracy is: \", METRIC.result())\n",
    "\n",
    "    with custom_train_writer.as_default():\n",
    "      tf.summary.scalar('Training Loss', data = loss, step = epoch)\n",
    "    with custom_train_writer.as_default():\n",
    "      tf.summary.scalar('Training Accuracy', data = METRIC.result(), step = epoch)\n",
    "      \n",
    "    METRIC.reset_states()\n",
    "\n",
    "    for (x_batch_val, y_batch_val) in val_dataset:\n",
    "      loss_val = val_block(x_batch_val, y_batch_val)\n",
    "\n",
    "    print(\"The Validation loss\", loss_val)\n",
    "    print(\"The Validation accuracy is: \", METRIC_VAL.result())\n",
    "\n",
    "    with custom_val_writer.as_default():\n",
    "      tf.summary.scalar('Validation Loss', data = loss_val, step = epoch)\n",
    "    with custom_val_writer.as_default():\n",
    "      tf.summary.scalar('Validation Accuracy', data = METRIC_VAL.result(), step = epoch)\n",
    "      \n",
    "    METRIC_VAL.reset_states()\n",
    "  print(\"Training Complete!!!!\")"
   ]
  },
  {
   "cell_type": "code",
   "execution_count": null,
   "id": "bf7c9b54",
   "metadata": {},
   "outputs": [],
   "source": [
    "neuralearn(lenet_model, custom_bce, METRIC, METRIC_VAL, OPTIMIZER, train_dataset, val_dataset, EPOCHS)"
   ]
  },
  {
   "cell_type": "code",
   "execution_count": null,
   "id": "5b4a6139",
   "metadata": {},
   "outputs": [],
   "source": [
    "# image = cv2.imread('cell.jpg')\n",
    "# print(image.shape)\n",
    "# image = tf.expand_dims(image, axis = 0)\n",
    "# print(image.shape)\n",
    "\n",
    "# lenet_model.predict(image)"
   ]
  },
  {
   "cell_type": "markdown",
   "id": "5d1fe6f9",
   "metadata": {},
   "source": [
    "## Visualizations"
   ]
  },
  {
   "cell_type": "code",
   "execution_count": null,
   "id": "655c7460",
   "metadata": {},
   "outputs": [],
   "source": [
    "%load_ext tensorboard"
   ]
  },
  {
   "cell_type": "code",
   "execution_count": null,
   "id": "517175a3",
   "metadata": {},
   "outputs": [],
   "source": [
    "tensorboard --logdir=logs\\140623-105112\\metrics"
   ]
  },
  {
   "cell_type": "code",
   "execution_count": null,
   "id": "0412bc00",
   "metadata": {},
   "outputs": [],
   "source": [
    "print(history.history.keys())"
   ]
  },
  {
   "cell_type": "code",
   "execution_count": null,
   "id": "1736d459",
   "metadata": {},
   "outputs": [],
   "source": [
    "#import matplotlib.pyplot as plt\n",
    "\n",
    "# Assuming you have a training history object named 'history'\n",
    "lr_values = history.history['lr']  # Extract the learning rate values from the history\n",
    "\n",
    "# Create a list of epochs corresponding to the learning rate values\n",
    "epochs = range(1, len(lr_values) + 1)\n",
    "\n",
    "# Plotting the learning rate\n",
    "plt.plot(epochs, lr_values)\n",
    "plt.xlabel('Epochs')\n",
    "plt.ylabel('Learning Rate')\n",
    "plt.title('Learning Rate Schedule')\n",
    "plt.show()\n"
   ]
  },
  {
   "cell_type": "code",
   "execution_count": null,
   "id": "c27a60b0",
   "metadata": {},
   "outputs": [],
   "source": [
    "plt.plot(history.history['loss'])\n",
    "plt.plot(history.history['val_loss'])\n",
    "plt.title('Model loss')\n",
    "plt.ylabel('loss')\n",
    "plt.xlabel('epoch')\n",
    "plt.legend(['train_loss', 'val_loss'])\n",
    "plt.show()"
   ]
  },
  {
   "cell_type": "code",
   "execution_count": null,
   "id": "bd48ab99",
   "metadata": {},
   "outputs": [],
   "source": [
    "plt.plot(history.history['accuracy'])\n",
    "plt.plot(history.history['val_accuracy'])\n",
    "plt.title('Model Accuracy')\n",
    "plt.ylabel('Accuracy')\n",
    "plt.xlabel('Epoch')\n",
    "plt.legend(['train_accuracy', 'val_accuracy'])\n",
    "plt.show()"
   ]
  },
  {
   "cell_type": "markdown",
   "id": "b533473e",
   "metadata": {},
   "source": [
    "# **Model Evaluation and Testing**"
   ]
  },
  {
   "cell_type": "code",
   "execution_count": null,
   "id": "827cb773",
   "metadata": {},
   "outputs": [],
   "source": [
    "test_dataset"
   ]
  },
  {
   "cell_type": "code",
   "execution_count": null,
   "id": "f07aaf0e",
   "metadata": {},
   "outputs": [],
   "source": [
    "test_dataset1 = (\n",
    "    test_dataset\n",
    "    .map(resize_rescale_single_layer, num_parallel_calls = tf.data.AUTOTUNE)\n",
    "    .batch(BATCH_SIZE)\n",
    "    .prefetch(tf.data.experimental.AUTOTUNE)\n",
    ")"
   ]
  },
  {
   "cell_type": "code",
   "execution_count": null,
   "id": "117041d3",
   "metadata": {},
   "outputs": [],
   "source": [
    "test_dataset1"
   ]
  },
  {
   "cell_type": "code",
   "execution_count": null,
   "id": "dcfd5b41",
   "metadata": {},
   "outputs": [],
   "source": [
    "model_seq.evaluate(test_dataset1)"
   ]
  },
  {
   "cell_type": "markdown",
   "id": "3036108f",
   "metadata": {},
   "source": [
    "## Visualizing Confusion Matrix"
   ]
  },
  {
   "cell_type": "code",
   "execution_count": null,
   "id": "4bf0cf74",
   "metadata": {},
   "outputs": [],
   "source": [
    "true_labels = []\n",
    "predicted_labels = []\n",
    "\n",
    "for image, label in test_dataset:\n",
    "    true_labels.append(label.numpy())\n",
    "    # Make predictions using your model\n",
    "    # model.predict(image) -> predicted_label\n",
    "    input_img = resize_rescale_layers(image)\n",
    "    input_image = tf.expand_dims(input_img, axis=0)\n",
    "    prediction = model_seq.predict(input_image)\n",
    "    \n",
    "    predicted_label = 0 if prediction < 0.5 else 1\n",
    "\n",
    "    predicted_labels.append(predicted_label)\n"
   ]
  },
  {
   "cell_type": "code",
   "execution_count": null,
   "id": "63a70439",
   "metadata": {},
   "outputs": [],
   "source": [
    "len(predicted_labels)"
   ]
  },
  {
   "cell_type": "code",
   "execution_count": null,
   "id": "6e7be296",
   "metadata": {},
   "outputs": [],
   "source": [
    "true_labels = np.array(true_labels)\n",
    "predicted_labels = np.array(predicted_labels)"
   ]
  },
  {
   "cell_type": "code",
   "execution_count": null,
   "id": "e901735f",
   "metadata": {},
   "outputs": [],
   "source": [
    "cm = confusion_matrix(true_labels, predicted_labels)"
   ]
  },
  {
   "cell_type": "code",
   "execution_count": null,
   "id": "53e8a8ac",
   "metadata": {},
   "outputs": [],
   "source": [
    "plt.figure(figsize=(8, 6))\n",
    "sns.heatmap(cm, annot=True, fmt=\"d\", cmap='Blues')\n",
    "plt.title('Confusion Matrix')\n",
    "plt.xlabel('Predicted Labels')\n",
    "plt.ylabel('True Labels')\n",
    "plt.show()\n"
   ]
  },
  {
   "cell_type": "markdown",
   "id": "c790d353",
   "metadata": {},
   "source": [
    "# =============================================================="
   ]
  },
  {
   "cell_type": "code",
   "execution_count": null,
   "id": "56b1aaa9",
   "metadata": {},
   "outputs": [],
   "source": []
  },
  {
   "cell_type": "code",
   "execution_count": null,
   "id": "ea3df249",
   "metadata": {},
   "outputs": [],
   "source": [
    "# Make predictions\n",
    "sample_image_path = 'image.png'  # Path to the sample image you want to predict\n",
    "\n"
   ]
  },
  {
   "cell_type": "code",
   "execution_count": null,
   "id": "31c1a8c0",
   "metadata": {},
   "outputs": [],
   "source": [
    "sample_image = tf.keras.preprocessing.image.load_img(\n",
    "    sample_image_path\n",
    ")\n",
    "\n"
   ]
  },
  {
   "cell_type": "code",
   "execution_count": null,
   "id": "15e07a0f",
   "metadata": {},
   "outputs": [],
   "source": [
    "img = np.array(sample_image)"
   ]
  },
  {
   "cell_type": "code",
   "execution_count": null,
   "id": "b6c9c4b4",
   "metadata": {},
   "outputs": [],
   "source": [
    "img.shape"
   ]
  },
  {
   "cell_type": "code",
   "execution_count": null,
   "id": "31b69989",
   "metadata": {},
   "outputs": [],
   "source": [
    "plt.imshow(img)"
   ]
  },
  {
   "cell_type": "code",
   "execution_count": null,
   "id": "fa6bcd6c",
   "metadata": {},
   "outputs": [],
   "source": [
    "img = resize_rescale_layers(img)"
   ]
  },
  {
   "cell_type": "code",
   "execution_count": null,
   "id": "cf914d69",
   "metadata": {},
   "outputs": [],
   "source": [
    "img = tf.expand_dims(img, axis=0)"
   ]
  },
  {
   "cell_type": "code",
   "execution_count": null,
   "id": "f1d4abab",
   "metadata": {},
   "outputs": [],
   "source": [
    "print(img.shape)"
   ]
  },
  {
   "cell_type": "code",
   "execution_count": null,
   "id": "2b18c45f",
   "metadata": {},
   "outputs": [],
   "source": [
    "model_seq.predict(img)"
   ]
  },
  {
   "cell_type": "code",
   "execution_count": null,
   "id": "03841242",
   "metadata": {},
   "outputs": [],
   "source": [
    "prediction = model_seq.predict(img)\n",
    "predicted_class = 'parasitized' if prediction < 0.5 else 'uninfected'\n",
    "\n",
    "print('Prediction:', predicted_class)"
   ]
  },
  {
   "cell_type": "code",
   "execution_count": null,
   "id": "db79a1bc",
   "metadata": {},
   "outputs": [],
   "source": [
    "#tp: 1267.0000 - fp: 99.0000 - tn: 1298.0000 - fn: 93.0000"
   ]
  },
  {
   "cell_type": "markdown",
   "id": "29fe85db",
   "metadata": {},
   "source": [
    "## ROC Plots"
   ]
  },
  {
   "cell_type": "code",
   "execution_count": null,
   "id": "9b435753",
   "metadata": {},
   "outputs": [],
   "source": [
    "fp, tp, thresholds = roc_curve(true_labels, predicted_labels)\n",
    "plt.plot(fp, tp)\n",
    "plt.xlabel(\"False Positive rate\")\n",
    "plt.ylabel(\"True Positive rate\")\n",
    "\n",
    "plt.grid()\n",
    "\n",
    "skip = 20\n",
    "\n",
    "for i in range(0, len(thresholds), skip):\n",
    "  plt.text(fp[i], tp[i], thresholds[i])\n",
    "  \n",
    "plt.show()"
   ]
  },
  {
   "cell_type": "code",
   "execution_count": null,
   "id": "2c9c0321",
   "metadata": {},
   "outputs": [],
   "source": [
    "def parasite_or_not(x):\n",
    "  if(x<0.5):\n",
    "    return str('P')\n",
    "  else:\n",
    "    return str('U')"
   ]
  },
  {
   "cell_type": "code",
   "execution_count": null,
   "id": "c3d7daae",
   "metadata": {},
   "outputs": [],
   "source": []
  },
  {
   "cell_type": "code",
   "execution_count": null,
   "id": "38dc0765",
   "metadata": {},
   "outputs": [],
   "source": [
    "parasite_or_not(model_seq.predict(test_dataset1)[0][0])"
   ]
  },
  {
   "cell_type": "code",
   "execution_count": null,
   "id": "fad3ed03",
   "metadata": {},
   "outputs": [],
   "source": [
    "fig = plt.figure(figsize=(8, 8))\n",
    "for i, (image, label) in enumerate(test_dataset1.take(9)):\n",
    "\n",
    "  ax = plt.subplot(3, 3, i + 1)\n",
    "  plt.imshow(image[0])\n",
    "  plt.title('Actual : Predicted -> ' + str(parasite_or_not(label.numpy()[0])) + \":\" + str(parasite_or_not(model_seq.predict(image)[0])))\n",
    "  \n",
    "  plt.axis('off')\n",
    "\n",
    "plt.tight_layout()"
   ]
  },
  {
   "cell_type": "markdown",
   "id": "7fbc29f2",
   "metadata": {},
   "source": [
    "# Visualizing intermidiate layer"
   ]
  },
  {
   "cell_type": "code",
   "execution_count": null,
   "id": "c5e71ddf",
   "metadata": {},
   "outputs": [],
   "source": [
    "def is_conv(layer_name):\n",
    "    if 'conv' in layer_name:\n",
    "        return True\n",
    "    else:\n",
    "        return False"
   ]
  },
  {
   "cell_type": "code",
   "execution_count": null,
   "id": "f1c29df8",
   "metadata": {},
   "outputs": [],
   "source": [
    "feature_maps = [layer.output for layer in model_seq.layers[2:-1] if is_conv(layer.name)]"
   ]
  },
  {
   "cell_type": "code",
   "execution_count": null,
   "id": "a7f9faee",
   "metadata": {},
   "outputs": [],
   "source": [
    "feature_maps"
   ]
  },
  {
   "cell_type": "code",
   "execution_count": null,
   "id": "998f3dad",
   "metadata": {},
   "outputs": [],
   "source": [
    "feature_map_model = Model(\n",
    "    inputs = model_seq.input,\n",
    "    outputs = feature_maps\n",
    ")"
   ]
  },
  {
   "cell_type": "code",
   "execution_count": null,
   "id": "55079350",
   "metadata": {},
   "outputs": [],
   "source": [
    "feature_map_model.summary()"
   ]
  },
  {
   "cell_type": "code",
   "execution_count": null,
   "id": "3ac99da7",
   "metadata": {},
   "outputs": [],
   "source": [
    "sample_image_path = 'image.png'\n",
    "sample_image = tf.keras.preprocessing.image.load_img(\n",
    "    sample_image_path\n",
    ")\n",
    "\n",
    "img = np.array(sample_image)\n",
    "\n",
    "img = resize_rescale_layers(img)\n",
    "img = tf.expand_dims(img, axis=0)\n"
   ]
  },
  {
   "cell_type": "code",
   "execution_count": null,
   "id": "6114fb47",
   "metadata": {},
   "outputs": [],
   "source": [
    "f_maps = feature_map_model.predict(img)"
   ]
  },
  {
   "cell_type": "code",
   "execution_count": null,
   "id": "53f85bcd",
   "metadata": {},
   "outputs": [],
   "source": [
    "for i in range(len(f_maps)):\n",
    "    print(f_maps[i].shape)"
   ]
  },
  {
   "cell_type": "code",
   "execution_count": null,
   "id": "0f3269b4",
   "metadata": {},
   "outputs": [],
   "source": [
    "for i in range(len(f_maps)):\n",
    "    plt.figure(figsize = (224,224))\n",
    "    f_size = f_maps[i].shape[1]\n",
    "    n_channels = f_maps[i].shape[3]\n",
    "    joint_maps = np.ones((f_size, f_size*n_channels ))\n",
    "\n",
    "    axs = plt.subplot(len(f_maps), 1, i+1)\n",
    "  \n",
    "    for j in range(n_channels):\n",
    "        joint_maps[:, f_size*j:f_size*(j+1)] = f_maps[i][..., j]\n",
    "\n",
    "    plt.imshow(joint_maps[:,0:512])\n",
    "    plt.axis(\"off\")"
   ]
  },
  {
   "cell_type": "markdown",
   "id": "c10a0b9a",
   "metadata": {},
   "source": [
    "# Loading and Saving"
   ]
  },
  {
   "cell_type": "code",
   "execution_count": null,
   "id": "b2f80223",
   "metadata": {},
   "outputs": [],
   "source": [
    "model_seq.save(\"model_final.hdf5\")"
   ]
  },
  {
   "cell_type": "code",
   "execution_count": null,
   "id": "20bb1849",
   "metadata": {},
   "outputs": [],
   "source": [
    "model = tf.keras.models.load_model(\"model_final.hdf5\")\n",
    "model.summary()"
   ]
  },
  {
   "cell_type": "code",
   "execution_count": null,
   "id": "0e15c14d",
   "metadata": {},
   "outputs": [],
   "source": []
  }
 ],
 "metadata": {
  "kernelspec": {
   "display_name": "Python 3 (ipykernel)",
   "language": "python",
   "name": "python3"
  },
  "language_info": {
   "codemirror_mode": {
    "name": "ipython",
    "version": 3
   },
   "file_extension": ".py",
   "mimetype": "text/x-python",
   "name": "python",
   "nbconvert_exporter": "python",
   "pygments_lexer": "ipython3",
   "version": "3.9.12"
  }
 },
 "nbformat": 4,
 "nbformat_minor": 5
}
